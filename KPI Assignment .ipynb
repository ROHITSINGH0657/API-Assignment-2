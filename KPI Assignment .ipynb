{
 "cells": [
  {
   "cell_type": "raw",
   "id": "95f987a2-8f6e-4769-be50-e8fd537720fa",
   "metadata": {},
   "source": [
    "Q1. What is an API? Give an example, where an API is used in real life?0\n",
    "Ans - An API is the interface that allows two independent software components to exchange information. An API acts as an \n",
    "intermediary between internal software functions and external ones, creating an exchange of information so seamless that it \n",
    "often goes unnoticed by the end user.\n",
    "\n",
    "Example- Google Pay , Paypal, Netflix, Flight Ticket Booking , Google Maps, Facebook etc."
   ]
  },
  {
   "cell_type": "raw",
   "id": "8a208a97-6b7c-408b-9374-19f9e22ef06f",
   "metadata": {},
   "source": [
    "Q2. Give advantages and disadvantages of using API.\n",
    "Ans  Advantages of the API\n",
    "  1) Increased Visibility and Traffic - First, it allows you to share your data and functionality with a broader audience, \n",
    "    increasing traffic and visibility for your website or app. \n",
    "  2)Increased Efficiency - It allows you to access data and functionality without navigating multiple menus or screens. \n",
    "  3)Reduced Costs - It allows developers to reuse code and functionality in multiple applications, saving time and money.\n",
    "  4)Easier Maintenance - It reduces the amount of work needed on the back-end, making maintenance and updates more effortless\n",
    "    and less time-consuming.  \n",
    "    \n",
    "    Disadvantage of the API\n",
    "    \n",
    "  1) Security and Privacy Risks - They can pose security and privacy risks if they’re not implemented correctly.\n",
    "     Therefore, it’s essential to carefully consider these risks before using them in your application.  \n",
    "  2)Increased Complexity - First, they can be complex and challenging to use, making them challenging for novice developers.  "
   ]
  },
  {
   "cell_type": "code",
   "execution_count": null,
   "id": "1db793d2-fbfb-43ec-8480-df70ab5a79e5",
   "metadata": {},
   "outputs": [],
   "source": [
    "Q3. What is a Web API? Differentiate between API and Web API.\n",
    "Ans- Web API is an API as the name suggests, it can be accessed over the web using the HTTP protocol.\n",
    "It is a framework that helps you to create and develop HTTP based RESTFUL services.\n",
    "\n",
    "   API\t         Web API\n",
    "1) API is used to communicate between two machines on a network.\tWeb API is used as an interface between two different \n",
    "applications for communicating with each other.\n",
    "\n",
    "2) It uses HTML requests that can be compressed, but XML data cannot be compressed.\tData can be compressed.\n",
    "Generally, it uses the HTTP protocol for communication. It also uses SOAP, REST, and XML-RPC as communication.\t\n",
    "It may use any means of communication protocols such as HTTP/HTTPS to initiate the interaction between applications.\n",
    "\n",
    "3) A API is just an API wrapped in HTTP.\tIt's not always be a web-based\n",
    "\n",
    "4)All Web Services are APIs.\tAll APIs are not web services.\n",
    "\n",
    "5)It does not have a complete set of specifications, and sometimes it cannot perform all the functions that can be executed\n",
    "by the WEB API.\tAn API is a complete set of rules and specifications that follow to facilitate the interaction.\n",
    "\n",
    "6)It uses XML as structured data for exchanging information and communication.\tIt uses XML, JSON or plain data as structured\n",
    "data."
   ]
  },
  {
   "cell_type": "code",
   "execution_count": null,
   "id": "0d76aa89-51fd-4031-9163-635c36483b3b",
   "metadata": {},
   "outputs": [],
   "source": [
    "Q4. Explain REST and SOAP Architecture. Mention shortcomings of SOAP?\n",
    "Ans - REST Architecture - A REST API is an application programming interface (API) that uses a representational state transfer\n",
    "(REST) architectural style. The REST architectural style uses HTTP to request access and use data. This allows for\n",
    "interaction with RESTful web services. \n",
    "\n",
    "SOAP Architecture - SOAP is a protocol for the exchange of information in a distributed environment. \n",
    "SOAP messages are encoded as XML documents and can be exchanged using various underlying protocols.\n",
    "\n",
    "shortcomings of SOAP:-\n",
    "As SOAP can only transfer messages as XML files, your SOAP API will be less performant, as XML is a verbose format compared \n",
    "to JSON. API calls made to your server will need more bandwidth and it will take more time to process the request and transfer\n",
    "the response back to the client."
   ]
  },
  {
   "cell_type": "code",
   "execution_count": null,
   "id": "72034353-5886-47db-b09a-016c158b04fe",
   "metadata": {},
   "outputs": [],
   "source": [
    "Q5. Differentiate between REST and SOAP.\n",
    "Ans-1) SOAP stands for Simple Object Access Protocol and REST stands for Representational State Transfer.\n",
    "2) SOAP uses only XML for exchanging information in its message format whereas REST is not restricted to XML and its the\n",
    "choice of implementer which Media-Type to use like XML, JSON, Plain-text. Moreover, REST can use SOAP protocol but SOAP\n",
    "cannot use REST.\n",
    "3) On behalf of services interfaces to business logic, SOAP uses @WebService whereas REST instead of using interfaces uses \n",
    "URI like @Path.\n",
    "4) SOAP is difficult to implement and it requires more bandwidth whereas REST is easy to implement and requires\n",
    "less bandwidth such as smartphones.\n",
    "5)SOAP cannot make use of REST since SOAP is a protocol without any architectural pattern. \n",
    "REST can make use of SOAP because it is an architectural pattern having protocol."
   ]
  }
 ],
 "metadata": {
  "kernelspec": {
   "display_name": "Python 3 (ipykernel)",
   "language": "python",
   "name": "python3"
  },
  "language_info": {
   "codemirror_mode": {
    "name": "ipython",
    "version": 3
   },
   "file_extension": ".py",
   "mimetype": "text/x-python",
   "name": "python",
   "nbconvert_exporter": "python",
   "pygments_lexer": "ipython3",
   "version": "3.10.8"
  }
 },
 "nbformat": 4,
 "nbformat_minor": 5
}
